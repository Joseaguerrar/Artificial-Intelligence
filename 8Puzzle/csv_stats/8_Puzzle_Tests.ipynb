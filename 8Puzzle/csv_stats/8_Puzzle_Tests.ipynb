{
  "nbformat": 4,
  "nbformat_minor": 0,
  "metadata": {
    "colab": {
      "provenance": []
    },
    "kernelspec": {
      "name": "python3",
      "display_name": "Python 3"
    },
    "language_info": {
      "name": "python"
    }
  },
  "cells": [
    {
      "cell_type": "markdown",
      "source": [
        "# Pruebas estadísticas de BFS, BFHS, IDS e IDHS"
      ],
      "metadata": {
        "id": "rRN-uuvl0lA6"
      }
    },
    {
      "cell_type": "markdown",
      "source": [
        "## Bibliotecas"
      ],
      "metadata": {
        "id": "IGT2RlxS0_H5"
      }
    },
    {
      "cell_type": "code",
      "source": [
        "import pandas as pd\n",
        "import numpy as np\n",
        "from scipy import stats\n",
        "from itertools import combinations"
      ],
      "metadata": {
        "id": "taO8b2f31KDn"
      },
      "execution_count": null,
      "outputs": []
    },
    {
      "cell_type": "markdown",
      "source": [
        "## Lectura de archivos"
      ],
      "metadata": {
        "id": "jrKyQqpu1SFt"
      }
    },
    {
      "cell_type": "code",
      "source": [
        "# Diccionario de archivos y nombres.\n",
        "files = {\n",
        "    \"BFHS\": \"Datos-BFHS.csv\",\n",
        "    \"BFS\": \"Datos-BFS.csv\",\n",
        "    \"IDHS\": \"Datos-IDHS.csv\",\n",
        "    \"IDS\": \"Datos-IDS.csv\"\n",
        "}\n",
        "\n",
        "# Al exportar los CSVs desde Excel, usó el ; para separar las columnas.\n",
        "data = {name: pd.read_csv(path, sep=\";\", encoding=\"latin1\") for name, path in files.items()}"
      ],
      "metadata": {
        "id": "cfzBTVxb1WRo"
      },
      "execution_count": null,
      "outputs": []
    },
    {
      "cell_type": "markdown",
      "source": [
        "### Manejo de tipo de datos de la tabla"
      ],
      "metadata": {
        "id": "WAT2znk01laD"
      }
    },
    {
      "cell_type": "code",
      "source": [
        "# Asegurar que las columnas numéricas sí lo sean (por si acaso).\n",
        "for df in data.values():\n",
        "    for col in metrics:\n",
        "        df[col] = pd.to_numeric(df[col], errors=\"coerce\")"
      ],
      "metadata": {
        "id": "oAJewwFT1xYt"
      },
      "execution_count": null,
      "outputs": []
    },
    {
      "cell_type": "markdown",
      "source": [
        "## Análisis de métricas"
      ],
      "metadata": {
        "id": "3YYRMUTP2BM4"
      }
    },
    {
      "cell_type": "code",
      "execution_count": null,
      "metadata": {
        "colab": {
          "base_uri": "https://localhost:8080/"
        },
        "id": "JU14vK5tzCt3",
        "outputId": "46b9ccb8-7db4-4c63-8a82-693921b8bb17"
      },
      "outputs": [
        {
          "output_type": "stream",
          "name": "stdout",
          "text": [
            "\n",
            "-------------------\n",
            "Métrica: Tiempo (s)\n",
            "-------------------\n",
            "Shapiro BFHS: p = 0.6034\n",
            "Shapiro BFS: p = 0.3355\n",
            "Shapiro IDHS: p = 0.3846\n",
            "Shapiro IDS: p = 0.002492\n",
            "Levene: p = 7.388e-09\n",
            "ANOVA: p = 2.962e-20\n",
            "Kruskal-Wallis: p = 2.083e-14\n",
            "Post-hoc (Mann-Whitney U + Bonferroni):\n",
            "Par                      U            p       p_bonf   Sig\n",
            "BFHS vs IDS              0    6.796e-08    4.077e-07    Sí\n",
            "IDHS vs IDS              0    6.796e-08    4.077e-07    Sí\n",
            "BFS vs IDHS           399    7.898e-08    4.739e-07    Sí\n",
            "BFS vs IDS             20    1.201e-06    7.205e-06    Sí\n",
            "BFHS vs BFS             30    4.540e-06    2.724e-05    Sí\n",
            "BFHS vs IDHS           349    5.896e-05    3.538e-04    Sí\n",
            "\n",
            "-------------------\n",
            "Métrica: Memoria (KB)\n",
            "-------------------\n",
            "Shapiro BFHS: p = 6.004e-06\n",
            "Shapiro BFS: p = 2.535e-06\n",
            "Shapiro IDHS: p = 8.32e-05\n",
            "Shapiro IDS: p = 2.765e-05\n",
            "Levene: p = 0.001182\n",
            "ANOVA: p = 1.268e-23\n",
            "Kruskal-Wallis: p = 1.046e-08\n",
            "Post-hoc (Mann-Whitney U + Bonferroni):\n",
            "Par                      U            p       p_bonf   Sig\n",
            "BFS vs IDS            360    8.715e-06    5.229e-05    Sí\n",
            "BFS vs IDHS           360    9.555e-06    5.733e-05    Sí\n",
            "BFHS vs BFS             41    1.547e-05    9.284e-05    Sí\n",
            "BFHS vs IDS            329    3.797e-04    2.278e-03    Sí\n",
            "BFHS vs IDHS           328    4.470e-04    2.682e-03    Sí\n",
            "IDHS vs IDS            304    3.555e-03    2.133e-02    Sí\n",
            "\n",
            "-------------------\n",
            "Métrica: Profundidad\n",
            "-------------------\n",
            "Shapiro BFHS: p = 0.4286\n",
            "Shapiro BFS: p = 1.753e-06\n",
            "Shapiro IDHS: p = 1.753e-06\n",
            "Shapiro IDS: p = 1.753e-06\n",
            "Levene: p = 9.292e-12\n",
            "ANOVA: p = 2.497e-26\n",
            "Kruskal-Wallis: p = 1.024e-11\n",
            "Post-hoc (Mann-Whitney U + Bonferroni):\n",
            "Par                      U            p       p_bonf   Sig\n",
            "BFHS vs BFS            400    2.914e-08    1.748e-07    Sí\n",
            "BFHS vs IDHS           400    2.914e-08    1.748e-07    Sí\n",
            "BFHS vs IDS            400    2.914e-08    1.748e-07    Sí\n",
            "BFS vs IDHS           200    1.000e+00    1.000e+00    No\n",
            "BFS vs IDS            200    1.000e+00    1.000e+00    No\n",
            "IDHS vs IDS            200    1.000e+00    1.000e+00    No\n"
          ]
        }
      ],
      "source": [
        "# Definir métricas\n",
        "metrics = [\"Tiempo (s)\", \"Memoria (KB)\", \"Profundidad\"]\n",
        "\n",
        "for metric in metrics:\n",
        "    print(\"\\n-------------------\")\n",
        "    print(f\"Métrica: {metric}\")\n",
        "    print(\"-------------------\")\n",
        "\n",
        "    # Extraer los datos de cada algoritmo.\n",
        "    arrays = [df[metric].dropna() for df in data.values()]\n",
        "\n",
        "    # 1. Normalidad (Shapiro-Wilk)\n",
        "    for name, df in data.items():\n",
        "        stat, p = stats.shapiro(df[metric].dropna())\n",
        "        print(f\"Shapiro {name}: p = {p:.4g}\")\n",
        "\n",
        "    # 2. Homogeneidad de varianzas (Levene)\n",
        "    stat, p = stats.levene(*arrays)\n",
        "    print(f\"Levene: p = {p:.4g}\")\n",
        "\n",
        "    # 3. ANOVA\n",
        "    stat, p = stats.f_oneway(*arrays)\n",
        "    print(f\"ANOVA: p = {p:.4g}\")\n",
        "\n",
        "    # 4. Kruskal-Wallis\n",
        "    stat, p = stats.kruskal(*arrays)\n",
        "    print(f\"Kruskal-Wallis: p = {p:.4g}\")\n",
        "\n",
        "    # 5. POST-HOC: Mann-Whitney U por pares (Bonferroni).\n",
        "    # Esta prueba la aplicamos para ver entre cuáles algoritmos hay diferencias.\n",
        "    # Como no se cumplen los supuestos de normalidad, debemos aplicar Mann-Whitney U\n",
        "    # en lugar de t-test.\n",
        "    # Además, debemos aplicar Bonferroni, pues al hacer varias pruebas (6 pares con 4 algoritmos),\n",
        "    # sube el riesgo de falsos positivos.\n",
        "    pairs = list(combinations(list(data.keys()), 2))\n",
        "    m = len(pairs)\n",
        "    results = []\n",
        "\n",
        "    # Para cada par, tomamos la métrica actual y quitamos nulos.\n",
        "    for a, b in pairs:\n",
        "        x = data[a][metric].dropna()\n",
        "        y = data[b][metric].dropna()\n",
        "        if len(x) == 0 or len(y) == 0:\n",
        "            results.append((a, b, np.nan, np.nan, np.nan, \"—\"))\n",
        "            continue\n",
        "\n",
        "        # Hay que recordar que H0: las distribuciones son iguales.\n",
        "        U, p_raw = stats.mannwhitneyu(x, y, alternative=\"two-sided\")\n",
        "        p_bonf = min(p_raw * m, 1.0)\n",
        "\n",
        "        # Solamente si p_bonf < 0.05, marcamos el par como significativo.\n",
        "        sig = \"Sí\" if p_bonf < 0.05 else \"No\"\n",
        "        results.append((a, b, U, p_raw, p_bonf, sig))\n",
        "\n",
        "    # Ordenar por p ajustado ascendente\n",
        "    results.sort(key=lambda r: (np.inf if pd.isna(r[4]) else r[4]))\n",
        "\n",
        "    print(\"Post-hoc (Mann-Whitney U + Bonferroni):\")\n",
        "    print(f\"{'Par':<15} {'U':>10} {'p':>12} {'p_bonf':>12} {'Sig':>5}\")\n",
        "    for a, b, U, p_raw, p_bonf, sig in results:\n",
        "        if pd.isna(U):\n",
        "            print(f\"{a} vs {b:<7} {'-':>10} {'-':>12} {'-':>12} {sig:>5}\")\n",
        "        else:\n",
        "            print(f\"{a} vs {b:<7} {U:10.0f} {p_raw:12.3e} {p_bonf:12.3e} {sig:>5}\")"
      ]
    }
  ]
}